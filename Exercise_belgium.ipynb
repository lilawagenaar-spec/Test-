{
 "cells": [
  {
   "cell_type": "code",
   "execution_count": null,
   "metadata": {},
   "outputs": [],
   "source": []
  },
  {
   "cell_type": "markdown",
   "metadata": {},
   "source": [
    "go to the who website and choose a disease and plot it "
   ]
  },
  {
   "cell_type": "code",
   "execution_count": 9,
   "metadata": {},
   "outputs": [
    {
     "name": "stdout",
     "output_type": "stream",
     "text": [
      "                     IND_ID       IND_CODE IND_UUID   IND_PER_CODE  DIM_TIME  \\\n",
      "0      90E2E48WHOSIS_000001  WHOSIS_000001  90E2E48  WHOSIS_000001      2000   \n",
      "1      90E2E48WHOSIS_000001  WHOSIS_000001  90E2E48  WHOSIS_000001      2000   \n",
      "2      90E2E48WHOSIS_000001  WHOSIS_000001  90E2E48  WHOSIS_000001      2000   \n",
      "3      90E2E48WHOSIS_000001  WHOSIS_000001  90E2E48  WHOSIS_000001      2000   \n",
      "4      90E2E48WHOSIS_000001  WHOSIS_000001  90E2E48  WHOSIS_000001      2000   \n",
      "...                     ...            ...      ...            ...       ...   \n",
      "12931  90E2E48WHOSIS_000001  WHOSIS_000001  90E2E48  WHOSIS_000001      2021   \n",
      "12932  90E2E48WHOSIS_000001  WHOSIS_000001  90E2E48  WHOSIS_000001      2021   \n",
      "12933  90E2E48WHOSIS_000001  WHOSIS_000001  90E2E48  WHOSIS_000001      2021   \n",
      "12934  90E2E48WHOSIS_000001  WHOSIS_000001  90E2E48  WHOSIS_000001      2021   \n",
      "12935  90E2E48WHOSIS_000001  WHOSIS_000001  90E2E48  WHOSIS_000001      2021   \n",
      "\n",
      "      DIM_TIME_TYPE  DIM_GEO_CODE_M49 DIM_GEO_CODE_TYPE  \\\n",
      "0              YEAR               688           COUNTRY   \n",
      "1              YEAR               690           COUNTRY   \n",
      "2              YEAR               694           COUNTRY   \n",
      "3              YEAR               702           COUNTRY   \n",
      "4              YEAR               703           COUNTRY   \n",
      "...             ...               ...               ...   \n",
      "12931          YEAR               332           COUNTRY   \n",
      "12932          YEAR               340           COUNTRY   \n",
      "12933          YEAR               348           COUNTRY   \n",
      "12934          YEAR               352           COUNTRY   \n",
      "12935          YEAR               356           COUNTRY   \n",
      "\n",
      "      DIM_PUBLISH_STATE_CODE                    IND_NAME GEO_NAME_SHORT  \\\n",
      "0                  PUBLISHED  Life expectancy (at birth)         Serbia   \n",
      "1                  PUBLISHED  Life expectancy (at birth)     Seychelles   \n",
      "2                  PUBLISHED  Life expectancy (at birth)   Sierra Leone   \n",
      "3                  PUBLISHED  Life expectancy (at birth)      Singapore   \n",
      "4                  PUBLISHED  Life expectancy (at birth)       Slovakia   \n",
      "...                      ...                         ...            ...   \n",
      "12931              PUBLISHED  Life expectancy (at birth)          Haiti   \n",
      "12932              PUBLISHED  Life expectancy (at birth)       Honduras   \n",
      "12933              PUBLISHED  Life expectancy (at birth)        Hungary   \n",
      "12934              PUBLISHED  Life expectancy (at birth)        Iceland   \n",
      "12935              PUBLISHED  Life expectancy (at birth)          India   \n",
      "\n",
      "      DIM_SEX   AMOUNT_N  \n",
      "0      FEMALE  74.334559  \n",
      "1      FEMALE  76.455919  \n",
      "2      FEMALE  51.577824  \n",
      "3      FEMALE  80.774170  \n",
      "4      FEMALE  77.405510  \n",
      "...       ...        ...  \n",
      "12931   TOTAL  62.456386  \n",
      "12932   TOTAL  68.963093  \n",
      "12933   TOTAL  74.395470  \n",
      "12934   TOTAL  82.577667  \n",
      "12935   TOTAL  67.307806  \n",
      "\n",
      "[12936 rows x 13 columns]\n"
     ]
    },
    {
     "ename": "TypeError",
     "evalue": "unsupported operand type(s) for &: 'list' and 'list'",
     "output_type": "error",
     "traceback": [
      "\u001b[1;31m---------------------------------------------------------------------------\u001b[0m",
      "\u001b[1;31mTypeError\u001b[0m                                 Traceback (most recent call last)",
      "Cell \u001b[1;32mIn[9], line 7\u001b[0m\n\u001b[0;32m      3\u001b[0m mortality_rate \u001b[38;5;241m=\u001b[39m pd\u001b[38;5;241m.\u001b[39mread_csv(\u001b[38;5;124m\"\u001b[39m\u001b[38;5;124mRELAY_WHS.csv\u001b[39m\u001b[38;5;124m\"\u001b[39m)\n\u001b[0;32m      5\u001b[0m \u001b[38;5;28mprint\u001b[39m(mortality_rate)\n\u001b[1;32m----> 7\u001b[0m Belgium_mortality_rate \u001b[38;5;241m=\u001b[39m mortality_rate([mortality_rate[\u001b[38;5;124m\"\u001b[39m\u001b[38;5;124mGEO_NAME_SHORT\u001b[39m\u001b[38;5;124m\"\u001b[39m]\u001b[38;5;241m==\u001b[39m\u001b[38;5;124m\"\u001b[39m\u001b[38;5;124mBelgium\u001b[39m\u001b[38;5;124m\"\u001b[39m]\u001b[38;5;241m&\u001b[39m[mortality_rate[\u001b[38;5;124m'\u001b[39m\u001b[38;5;124mDIM_SEX\u001b[39m\u001b[38;5;124m'\u001b[39m]\u001b[38;5;241m==\u001b[39m\u001b[38;5;124m\"\u001b[39m\u001b[38;5;124mTOTAL\u001b[39m\u001b[38;5;124m\"\u001b[39m])\n\u001b[0;32m      9\u001b[0m \u001b[38;5;28mprint\u001b[39m(Belgium_mortality_rate)\n",
      "\u001b[1;31mTypeError\u001b[0m: unsupported operand type(s) for &: 'list' and 'list'"
     ]
    }
   ],
   "source": [
    "import pandas as pd \n",
    "import matplotlib.pyplot as plt\n",
    "mortality_rate = pd.read_csv(\"RELAY_WHS.csv\")\n",
    "\n",
    "print(mortality_rate)\n",
    "\n",
    "Belgium_mortality_rate = mortality_rate([mortality_rate[\"GEO_NAME_SHORT\"]==\"Belgium\"]&[mortality_rate['DIM_SEX']==\"TOTAL\"])\n",
    "\n",
    "print(Belgium_mortality_rate)\n"
   ]
  }
 ],
 "metadata": {
  "kernelspec": {
   "display_name": "base",
   "language": "python",
   "name": "python3"
  },
  "language_info": {
   "codemirror_mode": {
    "name": "ipython",
    "version": 3
   },
   "file_extension": ".py",
   "mimetype": "text/x-python",
   "name": "python",
   "nbconvert_exporter": "python",
   "pygments_lexer": "ipython3",
   "version": "3.13.5"
  }
 },
 "nbformat": 4,
 "nbformat_minor": 2
}
