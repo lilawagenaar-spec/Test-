{
 "cells": [
  {
   "cell_type": "code",
   "execution_count": null,
   "metadata": {},
   "outputs": [],
   "source": []
  },
  {
   "cell_type": "markdown",
   "metadata": {},
   "source": [
    "Exercises from the Solve_ODEs_with_scipy\n",
    "\n",
    "## Exercises\n",
    "\n",
    "Find a numerical solution to the following differential equations with the associated initial conditions. Expand the requested time horizon until the solution reaches a steady state. Show a plot of the states ($x(t)$ and/or $y(t)$). Report the final value of each state as $t \\to \\infty$.\n",
    "\n",
    "## Problem 1\n",
    "\n",
    "dy(t)/{dt} = -y(t) + 1$\n",
    "\n",
    "y(0) = 0"
   ]
  },
  {
   "cell_type": "code",
   "execution_count": null,
   "metadata": {},
   "outputs": [],
   "source": []
  }
 ],
 "metadata": {
  "language_info": {
   "name": "python"
  }
 },
 "nbformat": 4,
 "nbformat_minor": 2
}
